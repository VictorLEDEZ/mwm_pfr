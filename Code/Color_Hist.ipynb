{
 "cells": [
  {
   "cell_type": "code",
   "execution_count": 1,
   "id": "41138835",
   "metadata": {},
   "outputs": [],
   "source": [
    "import torch\n",
    "import cv2\n",
    "import numpy as np\n",
    "import matplotlib.pyplot as plt\n",
    "import os\n",
    "from pathlib import Path\n",
    "import time"
   ]
  },
  {
   "cell_type": "code",
   "execution_count": 5,
   "id": "3a67340e",
   "metadata": {},
   "outputs": [
    {
     "name": "stdout",
     "output_type": "stream",
     "text": [
      "False\n"
     ]
    }
   ],
   "source": [
    "%matplotlib qt\n",
    "# %matplotlib inline\n",
    "\n",
    "# video = os.path.join(Path(os.getcwd()).parent.absolute(), \"Data\",\"Vacances.mp4\")\n",
    "video = os.path.join(Path(os.getcwd()).parent.absolute(), \"Data\",\"Suitcase.mp4\")\n",
    "\n",
    "fig, ax = plt.subplots()\n",
    "ax.set_title('Histogram (RGB)')\n",
    "ax.set_xlabel('Bin')\n",
    "ax.set_ylabel('Frequency')\n",
    "\n",
    "bins = 16\n",
    "lw = 3\n",
    "alpha = 0.5\n",
    "\n",
    "lineR, = ax.plot(np.arange(bins), np.zeros((bins,)), c='r', lw=lw, alpha=alpha, label='Red')\n",
    "lineG, = ax.plot(np.arange(bins), np.zeros((bins,)), c='g', lw=lw, alpha=alpha, label='Green')\n",
    "lineB, = ax.plot(np.arange(bins), np.zeros((bins,)), c='b', lw=lw, alpha=alpha, label='Blue')\n",
    "\n",
    "ax.set_xlim(0, bins-1)\n",
    "ax.set_ylim(0, 1)\n",
    "ax.legend()\n",
    "plt.ion()\n",
    "plt.show()\n",
    "\n",
    "cap = cv2.VideoCapture(video)\n",
    "\n",
    "if (cap.isOpened() == False):\n",
    "    print(\"Error opening video stream or file\")\n",
    "\n",
    "while(cap.isOpened()):\n",
    "    ret, frame = cap.read()\n",
    "\n",
    "    if ret == True:\n",
    "        # cv2.resize(frame,(720, 480))\n",
    "        cv2.imshow('RGB', frame)\n",
    "        # time.sleep(1)\n",
    "        numPixels = np.prod(frame.shape[:2])\n",
    "        (b, g, r) = cv2.split(frame)\n",
    "\n",
    "        histogramR = cv2.calcHist([r], [0], None, [bins], [0, 255]) / numPixels\n",
    "        histogramG = cv2.calcHist([g], [0], None, [bins], [0, 255]) / numPixels\n",
    "        histogramB = cv2.calcHist([b], [0], None, [bins], [0, 255]) / numPixels\n",
    "\n",
    "        lineR.set_ydata(histogramR)\n",
    "        lineG.set_ydata(histogramG)\n",
    "        lineB.set_ydata(histogramB)\n",
    "\n",
    "        fig.canvas.draw()\n",
    "\n",
    "        if cv2.waitKey(25) & 0xFF == ord('q'):\n",
    "            break\n",
    "\n",
    "    else:\n",
    "        print(ret)\n",
    "        break\n",
    "\n",
    "cap.release()\n",
    "cv2.destroyAllWindows()"
   ]
  },
  {
   "cell_type": "code",
   "execution_count": null,
   "id": "28e0ea23",
   "metadata": {},
   "outputs": [],
   "source": []
  }
 ],
 "metadata": {
  "kernelspec": {
   "display_name": "Python 3 (ipykernel)",
   "language": "python",
   "name": "python3"
  },
  "language_info": {
   "codemirror_mode": {
    "name": "ipython",
    "version": 3
   },
   "file_extension": ".py",
   "mimetype": "text/x-python",
   "name": "python",
   "nbconvert_exporter": "python",
   "pygments_lexer": "ipython3",
   "version": "3.9.7"
  }
 },
 "nbformat": 4,
 "nbformat_minor": 5
}
