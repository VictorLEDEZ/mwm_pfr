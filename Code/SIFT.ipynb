{
 "cells": [
  {
   "cell_type": "code",
   "execution_count": 1,
   "id": "41138835",
   "metadata": {},
   "outputs": [],
   "source": [
    "import torch\n",
    "import cv2\n",
    "import numpy as np\n",
    "import matplotlib.pyplot as plt\n",
    "import os\n",
    "from pathlib import Path\n",
    "import time\n",
    "import imageio\n",
    "from moviepy.video.io.ffmpeg_tools import ffmpeg_extract_subclip"
   ]
  },
  {
   "cell_type": "code",
   "execution_count": 2,
   "id": "3e53a1f0",
   "metadata": {},
   "outputs": [
    {
     "name": "stdout",
     "output_type": "stream",
     "text": [
      "Read a new frame 51\n",
      "Read a new frame 52\n"
     ]
    }
   ],
   "source": [
    "data_path = os.path.join(Path(os.getcwd()).parent.absolute(), \"Data\")\n",
    "# video_path = os.path.join(data_path, \"Suitcase.mp4\")\n",
    "video_path = os.path.join(data_path, \"cut.mp4\")\n",
    "# video_path = os.path.join(data_path, \"cut3.mp4\")\n",
    "vidcap = cv2.VideoCapture(video_path)\n",
    "success, image = vidcap.read()\n",
    "\n",
    "# get two frames of the video\n",
    "count = 0\n",
    "while success and count < 53:\n",
    "    if count > 50:\n",
    "        cv2.imwrite(\"frame%d.jpg\" % count, image) \n",
    "        print('Read a new frame', count)\n",
    "    success, image = vidcap.read()\n",
    "    count += 1"
   ]
  },
  {
   "cell_type": "code",
   "execution_count": 3,
   "id": "51f4ad9d",
   "metadata": {},
   "outputs": [],
   "source": [
    "# Video cut\n",
    "# ffmpeg_extract_subclip(video_path, 10, 15, targetname=os.path.join(data_path,\"cut3.mp4\"))"
   ]
  },
  {
   "cell_type": "code",
   "execution_count": 4,
   "id": "3a67340e",
   "metadata": {},
   "outputs": [],
   "source": [
    "# #sift\n",
    "# sift = cv2.SIFT_create()\n",
    "\n",
    "# #feature matching\n",
    "# bf = cv2.BFMatcher(cv2.NORM_L2, crossCheck=True)\n",
    "\n",
    "# img1 = cv2.imread('frame51.jpg')\n",
    "# img2 = cv2.imread('frame52.jpg')\n",
    "\n",
    "# img1 = cv2.cvtColor(img1, cv2.COLOR_BGR2GRAY)\n",
    "# img2 = cv2.cvtColor(img2, cv2.COLOR_BGR2GRAY)\n",
    "\n",
    "# keypoints_1, descriptors_1 = sift.detectAndCompute(img1,None)\n",
    "# keypoints_2, descriptors_2 = sift.detectAndCompute(img2,None)\n",
    "\n",
    "# matches = bf.match(descriptors_1, descriptors_2)\n",
    "# matches = sorted(matches, key = lambda x:x.distance)\n",
    "\n",
    "# sift = cv2.drawMatches(img1, keypoints_1, img2, keypoints_2, matches[:300], img2, flags=2)\n",
    "\n",
    "# cv2.imshow('SIFT', sift)\n",
    "# cv2.waitKey(0)\n",
    "# cv2.destroyAllWindows()"
   ]
  },
  {
   "cell_type": "code",
   "execution_count": null,
   "id": "5d282203",
   "metadata": {},
   "outputs": [],
   "source": [
    "#sift\n",
    "sift = cv2.SIFT_create()\n",
    "\n",
    "#feature matching\n",
    "bf = cv2.BFMatcher.create(cv2.NORM_L2, crossCheck=True)\n",
    "\n",
    "cap = cv2.VideoCapture(video_path)\n",
    "cap2 = cv2.VideoCapture(video_path)\n",
    "fourcc = cv2.VideoWriter_fourcc(*'MP4V')\n",
    "out = cv2.VideoWriter(os.path.join(data_path, \"sift.mp4\"), fourcc, 10.0, (1280,360))\n",
    "\n",
    "# length = int(cap.get(cv2.CAP_PROP_FRAME_COUNT))\n",
    "\n",
    "img_lst = []\n",
    "frame_number = 0\n",
    "frame_shift = 1\n",
    "\n",
    "while success:\n",
    "    current_frame = cap.set(cv2.CAP_PROP_POS_FRAMES, frame_number)\n",
    "    next_frame = cap2.set(cv2.CAP_PROP_POS_FRAMES, frame_number+frame_shift)\n",
    "    suc, current_frame = cap.read()\n",
    "    suc, next_frame = cap2.read()\n",
    "\n",
    "    if next_frame is None :\n",
    "        break\n",
    "\n",
    "    start = time.time()\n",
    "\n",
    "    current_frame = cv2.cvtColor(current_frame, cv2.COLOR_BGR2GRAY)\n",
    "    next_frame = cv2.cvtColor(next_frame, cv2.COLOR_BGR2GRAY)        \n",
    "\n",
    "    keypoints_1, descriptors_1 = sift.detectAndCompute(current_frame,None)\n",
    "    keypoints_2, descriptors_2 = sift.detectAndCompute(next_frame,None)\n",
    "\n",
    "    matches = bf.match(descriptors_1,descriptors_2)\n",
    "    matches = sorted(matches, key = lambda x:x.distance)\n",
    "\n",
    "    end = time.time()\n",
    "    totalTime = end - start\n",
    "\n",
    "    fps = 1 / totalTime\n",
    "    #print(\"FPS: \", fps)\n",
    "    \n",
    "    img3 = cv2.drawMatches(current_frame, keypoints_1, next_frame, keypoints_2, matches[200:250], next_frame, flags=2)\n",
    "    img_lst.append(img3)\n",
    "\n",
    "    # cv2.putText(img3, f'FPS: {int(fps)}', (30,30), cv2.FONT_HERSHEY_SIMPLEX, 1, (0,255,0), 1)\n",
    "    cv2.imshow('SIFT', img3)\n",
    "\n",
    "    frame_number += 1\n",
    "\n",
    "    out.write(img3)\n",
    "\n",
    "    if cv2.waitKey(5) & 0xFF == ord('q'):\n",
    "        break\n",
    "\n",
    "cv2.destroyAllWindows()\n",
    "out.release()\n",
    "cap.release()\n",
    "\n",
    "# imageio.mimsave(os.path.join(data_path, \"sift.gif\"), img_lst)"
   ]
  },
  {
   "cell_type": "code",
   "execution_count": null,
   "id": "d7e0c84f",
   "metadata": {},
   "outputs": [],
   "source": []
  }
 ],
 "metadata": {
  "kernelspec": {
   "display_name": "Python 3 (ipykernel)",
   "language": "python",
   "name": "python3"
  },
  "language_info": {
   "codemirror_mode": {
    "name": "ipython",
    "version": 3
   },
   "file_extension": ".py",
   "mimetype": "text/x-python",
   "name": "python",
   "nbconvert_exporter": "python",
   "pygments_lexer": "ipython3",
   "version": "3.9.7"
  }
 },
 "nbformat": 4,
 "nbformat_minor": 5
}
